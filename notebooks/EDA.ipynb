{
  "cells": [
    {
      "cell_type": "markdown",
      "id": "d1df806b",
      "metadata": {
        "id": "d1df806b"
      },
      "source": [
        "# **Analisis Exploratorio de Datos (EDA)**"
      ]
    },
    {
      "cell_type": "markdown",
      "id": "5331c9c8",
      "metadata": {
        "id": "5331c9c8"
      },
      "source": [
        "## Librerías necesarias"
      ]
    },
    {
      "cell_type": "code",
      "execution_count": 4,
      "id": "133b40a5",
      "metadata": {
        "id": "133b40a5"
      },
      "outputs": [],
      "source": [
        "from pyspark.sql import SparkSession\n",
        "from pyspark.sql.functions import col, lit\n",
        "import pandas as pd\n",
        "import numpy as np\n",
        "import matplotlib.pyplot as plt"
      ]
    },
    {
      "cell_type": "code",
      "source": [
        "##OJO ESTO SOLO ES PARA USAR DRIVE , SE DEBE QUITAR\n",
        "from google.colab import drive\n",
        "drive.mount('/content/drive')"
      ],
      "metadata": {
        "id": "VhgtFlA3I74X",
        "outputId": "99e41577-cca0-498d-e9c3-14c74db972f4",
        "colab": {
          "base_uri": "https://localhost:8080/"
        }
      },
      "id": "VhgtFlA3I74X",
      "execution_count": 1,
      "outputs": [
        {
          "output_type": "stream",
          "name": "stdout",
          "text": [
            "Mounted at /content/drive\n"
          ]
        }
      ]
    },
    {
      "cell_type": "code",
      "source": [
        "#@title grafico de prueba\n",
        "CITIES=['SOLEDAD','CARTAGENA DE INDIAS','VALLEDUPAR','BOGOTA D.C','NEIVA','RIOHACHA','PASTO','CÚCUTA','ARMENIA','SAN ANDRÉS']\n",
        "spark = SparkSession.builder.appName('EDA').getOrCreate()\n",
        "for city in CITIES:\n",
        "  path=f'./drive/MyDrive/data_project/enriched/{city}'\n",
        "  df_original=spark.read.parquet(path)\n",
        "  df_pd=df_original.toPandas()\n",
        "  print(df_pd.head())\n",
        "  df_pd.set_index('time',inplace=True)\n",
        "  df_pd.plot(y='precipitacion')\n",
        "  plt.show()\n",
        "  del df_pd\n",
        "  del df_original"
      ],
      "metadata": {
        "id": "0ymgXgO5JIA6",
        "outputId": "18377dc8-7dd8-414f-f2c7-9c594c51911f",
        "colab": {
          "base_uri": "https://localhost:8080/",
          "height": 586
        }
      },
      "id": "0ymgXgO5JIA6",
      "execution_count": 7,
      "outputs": [
        {
          "output_type": "stream",
          "name": "stdout",
          "text": [
            "        temp       dwpt       rhum   wdir       wspd     pres  coco  \\\n",
            "0  29.466667  26.933333  87.333333  320.0  10.466667  1008.20   4.0   \n",
            "1  29.100000  26.900000  89.000000  315.0   9.200000  1008.15   4.0   \n",
            "2  28.733333  26.866667  90.666667  310.0   7.933333  1008.10   4.0   \n",
            "3  28.366667  26.833333  92.333333  305.0   6.666667  1008.05   4.0   \n",
            "4  28.000000  26.800000  94.000000  300.0   5.400000  1008.00   4.0   \n",
            "\n",
            "   precipitacion  \n",
            "0       1.433333  \n",
            "1       1.600000  \n",
            "2       1.766667  \n",
            "3       1.933333  \n",
            "4       2.100000  \n"
          ]
        },
        {
          "output_type": "error",
          "ename": "KeyError",
          "evalue": "\"None of ['time'] are in the columns\"",
          "traceback": [
            "\u001b[0;31m---------------------------------------------------------------------------\u001b[0m",
            "\u001b[0;31mKeyError\u001b[0m                                  Traceback (most recent call last)",
            "\u001b[0;32m<ipython-input-7-8557ed20049c>\u001b[0m in \u001b[0;36m<cell line: 0>\u001b[0;34m()\u001b[0m\n\u001b[1;32m      7\u001b[0m   \u001b[0mdf_pd\u001b[0m\u001b[0;34m=\u001b[0m\u001b[0mdf_original\u001b[0m\u001b[0;34m.\u001b[0m\u001b[0mtoPandas\u001b[0m\u001b[0;34m(\u001b[0m\u001b[0;34m)\u001b[0m\u001b[0;34m\u001b[0m\u001b[0;34m\u001b[0m\u001b[0m\n\u001b[1;32m      8\u001b[0m   \u001b[0mprint\u001b[0m\u001b[0;34m(\u001b[0m\u001b[0mdf_pd\u001b[0m\u001b[0;34m.\u001b[0m\u001b[0mhead\u001b[0m\u001b[0;34m(\u001b[0m\u001b[0;34m)\u001b[0m\u001b[0;34m)\u001b[0m\u001b[0;34m\u001b[0m\u001b[0;34m\u001b[0m\u001b[0m\n\u001b[0;32m----> 9\u001b[0;31m   \u001b[0mdf_pd\u001b[0m\u001b[0;34m.\u001b[0m\u001b[0mset_index\u001b[0m\u001b[0;34m(\u001b[0m\u001b[0;34m'time'\u001b[0m\u001b[0;34m,\u001b[0m\u001b[0minplace\u001b[0m\u001b[0;34m=\u001b[0m\u001b[0;32mTrue\u001b[0m\u001b[0;34m)\u001b[0m\u001b[0;34m\u001b[0m\u001b[0;34m\u001b[0m\u001b[0m\n\u001b[0m\u001b[1;32m     10\u001b[0m   \u001b[0mdf_pd\u001b[0m\u001b[0;34m.\u001b[0m\u001b[0mplot\u001b[0m\u001b[0;34m(\u001b[0m\u001b[0my\u001b[0m\u001b[0;34m=\u001b[0m\u001b[0;34m'precipitacion'\u001b[0m\u001b[0;34m)\u001b[0m\u001b[0;34m\u001b[0m\u001b[0;34m\u001b[0m\u001b[0m\n\u001b[1;32m     11\u001b[0m   \u001b[0mplt\u001b[0m\u001b[0;34m.\u001b[0m\u001b[0mshow\u001b[0m\u001b[0;34m(\u001b[0m\u001b[0;34m)\u001b[0m\u001b[0;34m\u001b[0m\u001b[0;34m\u001b[0m\u001b[0m\n",
            "\u001b[0;32m/usr/local/lib/python3.11/dist-packages/pandas/core/frame.py\u001b[0m in \u001b[0;36mset_index\u001b[0;34m(self, keys, drop, append, inplace, verify_integrity)\u001b[0m\n\u001b[1;32m   6120\u001b[0m \u001b[0;34m\u001b[0m\u001b[0m\n\u001b[1;32m   6121\u001b[0m         \u001b[0;32mif\u001b[0m \u001b[0mmissing\u001b[0m\u001b[0;34m:\u001b[0m\u001b[0;34m\u001b[0m\u001b[0;34m\u001b[0m\u001b[0m\n\u001b[0;32m-> 6122\u001b[0;31m             \u001b[0;32mraise\u001b[0m \u001b[0mKeyError\u001b[0m\u001b[0;34m(\u001b[0m\u001b[0;34mf\"None of {missing} are in the columns\"\u001b[0m\u001b[0;34m)\u001b[0m\u001b[0;34m\u001b[0m\u001b[0;34m\u001b[0m\u001b[0m\n\u001b[0m\u001b[1;32m   6123\u001b[0m \u001b[0;34m\u001b[0m\u001b[0m\n\u001b[1;32m   6124\u001b[0m         \u001b[0;32mif\u001b[0m \u001b[0minplace\u001b[0m\u001b[0;34m:\u001b[0m\u001b[0;34m\u001b[0m\u001b[0;34m\u001b[0m\u001b[0m\n",
            "\u001b[0;31mKeyError\u001b[0m: \"None of ['time'] are in the columns\""
          ]
        }
      ]
    }
  ],
  "metadata": {
    "kernelspec": {
      "display_name": "myenv",
      "language": "python",
      "name": "python3"
    },
    "language_info": {
      "codemirror_mode": {
        "name": "ipython",
        "version": 3
      },
      "file_extension": ".py",
      "mimetype": "text/x-python",
      "name": "python",
      "nbconvert_exporter": "python",
      "pygments_lexer": "ipython3",
      "version": "3.12.6"
    },
    "colab": {
      "provenance": []
    }
  },
  "nbformat": 4,
  "nbformat_minor": 5
}