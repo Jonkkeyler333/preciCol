{
 "cells": [
  {
   "cell_type": "markdown",
   "id": "1dbf0d0a",
   "metadata": {},
   "source": [
    "# Forecasting"
   ]
  }
 ],
 "metadata": {
  "language_info": {
   "name": "python"
  }
 },
 "nbformat": 4,
 "nbformat_minor": 5
}
